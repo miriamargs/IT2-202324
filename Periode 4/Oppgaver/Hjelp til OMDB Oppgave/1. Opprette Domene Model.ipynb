{
 "cells": [
  {
   "cell_type": "markdown",
   "metadata": {},
   "source": [
    "### Hvordan lage en datamodell for Oppgaven som bruker OMDb API-en\n",
    "\n",
    "De første timene skulle du utforske mulighetene med  [OMDb Film API](https://www.omdbapi.com/), og se hvilken data du kunne hente fra API. Ideen er at ved å se på oppgave beskrivelse og JSON data som sendes ut fra API-en kan man identifisere hvilke objekter man trenger i FilmApp.\n",
    "\n",
    "Under finner du en forslag til modell for Oppgaven. (Hvis du har laget din egen modell, kan det være du har  litt forskjellige medlemvariabler og metoder for klassene)\n",
    "\n",
    "<img src=\"bilder/ForslagTilModell.png\" alt=\"Forslag til Modell\" style=\"width:40%;\">\n",
    "\n",
    "\n",
    "Her ser du objekter som er identifisert:\n",
    "\n",
    "1. Fra oppgave beskrivelse\n",
    "- Klassen `FilmApp`: for selve appen\n",
    "- Klassen `Favoritter`: for å holde liste med filmer og serier i bucket list\n",
    "\n",
    "2. Fra JSON:\n",
    "- Klassen `\"SokResultat\"`: for å lagre hvert treff fra en søk\n",
    "- Klassen `\"VisueltMedia\"`: for å lagre felles data fra JSON om en film eller en serie (superklasse)\n",
    "- Klassen `\"Film\"`: for å lagre spesifikk data for en film (subklasse av VisueltMedie)\n",
    "- Klassen `\"Serie\"`: for å lagre spesifikk data for en serie (subklasse av VisueltMedia)\n",
    "\n",
    "\n",
    "Klassene identifisert fra JSON data vil kunne opprettes med JSON data man får når man kaller OMDb API. "
   ]
  },
  {
   "cell_type": "markdown",
   "metadata": {},
   "source": [
    "### Fra JSON til Klasser og objekter \n",
    "\n",
    "Her skal du lage klasser for objektene som kommer fra JSON (SokResultat, VisueltMedia, Film og Serie). Du får hjelp til å lage SokResultat-klassen, og så må du lage resten selv. Du får også kode for en enkelt test per klasse som henter data fra json og tester opprettelse av klassen, som du kan kopiere og teste. \n",
    "\n",
    "<div style=\"background-color:lightblue; border:2px solid black; padding:10px; color:black\">\n",
    "\n",
    "##### Oppgave\n",
    "\n",
    "Det er god praksis å lagre klassene til modellen din i en egen fil, enten samlet eller hver for seg. For enkelheten skyld jeg forelsår at du lager en samelt fil der du oppretter alle klasser du bruker.\n",
    "Opprett en ny fil __Klasser.py__ i samme Folder der du har python kode for selve appen __FilmApp.py__\n",
    "\n",
    "Siden testen vil bruke JSAON-filer trenger du å importerer json-bibliotek i python:\n",
    "\n",
    "    import json\n",
    "\n",
    "\n",
    "</div>\n"
   ]
  },
  {
   "cell_type": "markdown",
   "metadata": {},
   "source": [
    "#### __Klasse \"SokResultat\"__\n",
    "Du får her forklaringer og start kode for klassen SokResultater, og det er din jobb etterpå å gjøre det samme med de andre objekter. Spør om du lurer.\n",
    "\n",
    "I bildet under ser du JSON-data som blir sendt ut av API etter et bestemt søk som ga 4 treff.  __JSON__ er en tekstlig format som er brukt for å utveksle og lagre data, som vi jobbet med i Periode 3. Hvis du husker fra tidligere i IT2, \n",
    "hver gang du finner tegn `{` i JSON betyr det at det som kommer etterpå inntil tegn `}` vil bli en dictionary når JSON-data leser opp med python. I tillegg hver gang du finner tegn `[` betyr det at det som kommer etterpå inntill tegn `]` vil bli elementer i en liste i python.\n",
    "\n",
    "Se på JSON-data i bildet og svar på oppgave under. Klikk på _Sjekk svar her_ for å se på forslag til svar.\n",
    "\n",
    "\n",
    "<img src=\"bilder/SearchResultatFraJSON.png\" alt=\"Forslag til Modell\" style=\"width:75%;\">\n",
    " \n"
   ]
  },
  {
   "cell_type": "markdown",
   "metadata": {},
   "source": [
    "<div style=\"background-color:lightblue; border:2px solid black; padding:10px; color:black\">\n",
    "\n",
    "##### __Oppgave__\n",
    "\n",
    "Se på JSON under og finn ut hvor mange dictionary og lister vil bli ut fra denne JSON.\n",
    "<details>\n",
    "<summary>\n",
    "  <b>Sjekk svar her</b>\n",
    "</summary>\n",
    " Det vil bli en dictionary med 3 keys (Search, totalResulst og Response), med hvert sin verdi.\n",
    " \n",
    " Videre vil verdi for Search-key blir en liste med 4 elementer, og hvert element i liste vil bli igjen en dictionary med nøkkler og verdier (rød-firkant på bildet). Disse dictionary'er identifiserer hvert en treff fra søket.\n",
    "</details>\n",
    "\n",
    "</div>\n",
    "\n",
    "Sli det er forklar i oppgaven over, blir dataen som er inn i den firkantet boks i bildet over en dictionary  med 5 keys når JSON-data blir lest opp via python.. Det er denne dictionary vi skal bruke for å opprette en klasse av type SokResultat som holder data for en treff fra søket. Se kode under. "
   ]
  },
  {
   "cell_type": "code",
   "execution_count": 6,
   "metadata": {},
   "outputs": [],
   "source": [
    "import json \n",
    "\n",
    "#Kode for SokResultat\n",
    "class SokResultat:\n",
    "    \"\"\" Tar inn en dictionary with the data for this result\n",
    "        The dictionary tilsvarer json sendt from the API\"\"\"\n",
    "    def __init__(self, data:dict[str, str]):\n",
    "        self.tittel = data.get(\"Title\")   #bruker get-method for å gjøre det mer robust. Merk store forbokstav\n",
    "        self.aar = data.get(\"Year\")\n",
    "        self.id = data.get(\"imdbID\")\n",
    "        self.poster = data.get(\"Poster\")\n",
    "        self.type = data.get(\"Type\")\n",
    "\n",
    "\n",
    "    def __str__(self):\n",
    "            \"\"\" Bestemmer hvordan SokResult vil bli skrevet ut når man bruker print \"\"\"\n",
    "            return f\"Title: {self.tittel}, Year:{self.aar} ...\"  #replace ... med resten av informasjon\n",
    "    \n"
   ]
  },
  {
   "cell_type": "markdown",
   "metadata": {},
   "source": [
    "<div style=\"background-color:lightblue; border:2px solid black; padding:10px; color:black\">\n",
    "\n",
    "##### __Oppgave__\n",
    "1. Kopier koden ovenfor i __Klasser.py__, Sjekk at det kompilere og prøv å forstå den. Merk at vi har brukt __data.get(\"Title\")__ i sted t for __data[\"Title\"]__ for å hente verdiene fra dictionary. Dette er for å gjøre kode mer robust. Hvis nøkkel ikke finnes, returneres None, istedet for å kræsje.\n",
    "2. Metodet \"__ __str__() __\" blir brukt av python når man skriver __print(sokResultat)__. Endre kode slik at det inkludere også type og id i det som skrives ut.\n",
    "3. Når du er ferdig kopier koden for å teste klassen på slutten av __Klasser.py__ (koden finner du under). Testen __test_SokResultat()__ laster opp autentisk JSON-data og tester at klassen blir opprettet riktig. Oppdatert test til å skrive ut SokResultat-objekt.\n"
   ]
  },
  {
   "cell_type": "markdown",
   "metadata": {},
   "source": [
    "<div style=\"background-color:lightblue; border:2px solid black; padding:10px; color:black>\n",
    "##### Oppgave\n",
    "\n",
    "Kopier kode over i `Klasser.py` og skriv ferdig kode i __init__ og __str__ slik at alt data fra JSON lagres i objekten.\n",
    "Når du er ferdig, kan du legge til denne koden under på slutten av filen. Den kjører en enkel test som oppretter en slik objekt og sjekker at alt er riktig.\n",
    "</div>"
   ]
  },
  {
   "cell_type": "code",
   "execution_count": 7,
   "metadata": {},
   "outputs": [
    {
     "name": "stdout",
     "output_type": "stream",
     "text": [
      "test SokResultat ok\n"
     ]
    }
   ],
   "source": [
    "if __name__ == \"__main__\":\n",
    "     #Kode for å teste klassen SokResultat\n",
    "    def test_SokResultat():\n",
    "        \n",
    "        with open('SearchResult.json', encoding=\"UTF-8\") as fil:\n",
    "            data = json.load(fil)\n",
    "\n",
    "        result = SokResultat(data[\"Search\"][0])\n",
    "        assert result.tittel == \"Star Wars: Episode I - The Phantom Menace\"\n",
    "        assert result.type == \"movie\"\n",
    "        assert result.aar == \"1999\"\n",
    "        assert result.id == \"tt0120915\"\n",
    "        assert result.poster == \"https://m.media-amazon.com/images/M/M.jpg\"\n",
    "        print(f\"test SokResultat ok\")\n",
    "\n",
    "\n",
    "    test_SokResultat()"
   ]
  },
  {
   "cell_type": "markdown",
   "metadata": {},
   "source": [
    "#### Klassene VisueltMedia, Serie og Film\n",
    "Når er det ditt turn. Jeg foreslår at du skriver kode for alle tre resterende klassene også i `Klasser.py`, så etterpå trenger du bare å importere denne filen i FilmApp.py\n",
    "\n",
    "\n",
    "I bildet ser du foreslått UML-modell med medlemsvariabler og metoder for klassen VisueltMedie, Serie og Film og JSON-data som kommer fra API når man henter en Serie. Forslag til medlemvariabler for klassen __VisueltMedia__ og hvilke nøkler fra JSON-dictionary som skal brukes er merket i rød, mens meldemesvaribler for __Serie__ er merket i blå.\n",
    "\n",
    "<img src=\"bilder/FromJSONToVisueltMedia.png\" alt=\"VisueltMedia, Serie\">\n"
   ]
  },
  {
   "cell_type": "markdown",
   "metadata": {},
   "source": [
    "<div style=\"background-color:lightblue; border:2px solid black; padding:10px; color:black\">\n",
    "\n",
    "##### __Oppgave__ \n",
    "\n",
    "1. Skriv kode for klassen `VisueltMedia`. Du må skrive kode for \"__ __init__ __\" som tar inn en dictionary som parameter, slik du gjorde med __SokResultat__\n",
    "Lag tomme metoder ved hjelp av __pass__\n",
    "\n",
    "2. Skriv kode for klassen `Serie`. Den arver fra VisueltMedia.Du må skrive kode for \"__ __init__ __\"  som kaller på init fra sin superklassen og legge til meldemsvariabel som er spesifikke for __Serie__ Se Tips under om du trenger hjelp.\n",
    "\n",
    "3. Kopier koden for __test_Serie()__ (se under) til __Klasser.py__ på riktig sted, og kjør koden for å teste de nye klassene dine. Den laster opp autentisk JSON-data for en serie og tester at klassen blir opprettet riktig.\n",
    "\n",
    "<details>\n",
    "<summary>\n",
    "   TIPS: Sjekk her for tips på hvordan du skriver kode for subklasser.\n",
    "</summary>\n",
    "    Når du arver fra en andre klasse, må du skrive den andre klasse i parentes. I tillegg må du kalle superklassen sin konstruktor før du legger til spesifikke medlemvariabler for klassen.\n",
    "\n",
    "    class Serie(VisueltMedia):\n",
    "     def __init__(self, data:dict[str, str]):\n",
    "          super().__init(self, data)\n",
    "          self.totalSessonger = data.get(\"TotalSeasons\")\n",
    "</details>\n",
    "</div>\n"
   ]
  },
  {
   "cell_type": "code",
   "execution_count": null,
   "metadata": {},
   "outputs": [],
   "source": [
    "#Kode for å teste klassen Serie\n",
    "def test_Serie():\n",
    "      \n",
    "     with open('Serie.json', encoding=\"UTF-8\") as fil:\n",
    "          data = json.load(fil)\n",
    "\n",
    "     serie = Serie(data)\n",
    "     assert serie.tittel == \"Star Trek\"\n",
    "     assert serie.aar == \"1987–1994\", f\"{serie.aar}\"\n",
    "     assert serie.id == \"tt0092455\" \n",
    "     assert serie.poster == \"https://m.media-amazon.com/images/M/M.jpg\"\n",
    "     assert serie.lengde == \"44 min\"\n",
    "     assert serie.sjanger == \"Action, Adventure, Drama\"\n",
    "     assert serie.totalSessonger == 7\n",
    "\n",
    "     print(f\"test Serie ok\")\n",
    "\n",
    "test_Serie()"
   ]
  },
  {
   "cell_type": "markdown",
   "metadata": {},
   "source": [
    "\n",
    "I bildet under du UML-modell med medlemsvariabler og metoder for klassen og JSON-data som kommer fra API for klassen Film\n",
    "Klassen `Film` arver også fra VisueltMedia, og har bare tre meldemvariabler som er spesifikke for film. \n",
    "\n",
    "<img src=\"bilder/FromJSONToKVisueltMediaFilm.png\" alt=\"VisueltMedia, Film\">"
   ]
  },
  {
   "cell_type": "markdown",
   "metadata": {},
   "source": [
    "<div style=\"background-color:lightblue; border:2px solid black; padding:10px; color:black\">\n",
    "\n",
    "##### __Oppgave__ \n",
    "\n",
    "1. Skriv kode for klassen `Film`. Den arver fra VisueltMedia. I bildet ovenfor ser du forslag for medlemvariabler som er spesifikke for __Film__, og hvilke nøkler fra JSON-dictionary som skal brukes (merket i rød)\n",
    "2. Kopier koden for __test_film()__ (se under) til __Klasser.py__ på riktig sted, for kjør koden for å teste den nye klassen din. Den laster opp autentisk JSON-data for en film, og tester at klassen blir opprettet riktig.\n",
    "\n",
    "</div>"
   ]
  },
  {
   "cell_type": "code",
   "execution_count": null,
   "metadata": {},
   "outputs": [],
   "source": [
    "\n",
    "    \n",
    "#Kode for å teste klassen Film\n",
    "def test_Film():\n",
    "      \n",
    "     with open('Film_info.json', encoding=\"UTF-8\") as fil:\n",
    "          data = json.load(fil)\n",
    "     \n",
    "     film = Film(data)\n",
    "     assert film.tittel == \"Star Wars\"\n",
    "     assert film.aar == \"1977\"\n",
    "     assert film.id == \"tt0076759\" \n",
    "     assert film.poster == \"https://m.media-amazon.com/images/M.jpg\"\n",
    "     assert film.lengde == \"121 min\"\n",
    "     assert film.sjanger == \"Action, Adventure, Fantasy\"\n",
    "     assert film.DVD == \"10 Oct 2016\"\n",
    "\n",
    "     print(f\"test Film ok\")\n",
    "\n",
    "test_Film()"
   ]
  },
  {
   "cell_type": "markdown",
   "metadata": {},
   "source": [
    "__Gratulerer! Du har nå klart å opprette klasser som tar i mot data fra JSON-data som kommer ut av OMDb API. Du er klar til å bruke dem i din FilmApp.\n",
    "Jobb videre med FilmApp.ipynb.__"
   ]
  }
 ],
 "metadata": {
  "kernelspec": {
   "display_name": "Python 3",
   "language": "python",
   "name": "python3"
  },
  "language_info": {
   "codemirror_mode": {
    "name": "ipython",
    "version": 3
   },
   "file_extension": ".py",
   "mimetype": "text/x-python",
   "name": "python",
   "nbconvert_exporter": "python",
   "pygments_lexer": "ipython3",
   "version": "3.10.7"
  }
 },
 "nbformat": 4,
 "nbformat_minor": 2
}
