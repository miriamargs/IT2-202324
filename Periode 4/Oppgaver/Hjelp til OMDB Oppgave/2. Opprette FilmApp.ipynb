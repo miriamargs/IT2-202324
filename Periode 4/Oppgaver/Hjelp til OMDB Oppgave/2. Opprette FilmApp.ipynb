{
 "cells": [
  {
   "cell_type": "markdown",
   "metadata": {},
   "source": [
    "### Film APP\n",
    "\n",
    "Du skal lage en FilmApp som lar bruker søke film i [OMDb Film API](https://www.omdbapi.com/), hente detaljert informasjon om et bestemt film og legge enkelte filmer til en Favorites-liste.\n",
    "\n",
    "Applikasjon skal ha en tekstlig bruker interface.\n",
    "\n",
    "Det første du skal gjøre er å lage en klasse som vil representere appen våres. Klassen er representert med følgende modell:\n",
    "\n",
    "![Klasse for FilmApp](bilder/FilmAppModel.png)\n",
    "\n",
    "\n",
    "Opprette en ny folder for prosjektet og åpne det i VSCode. Opprett da en ny fil FilmApp.py, der du skrive koden for klassen FilmApp som stemmer med modell over.\n",
    "\n",
    "Lag foreløpig bare kode for klassen med konstruktør og medlemsvariabler og tømme metoder Vi vil fylle innhold i metodene etterhvert. For å lage en tømt metode, uten at det gir kompileringsfeil kan du skriver du: \n"
   ]
  },
  {
   "cell_type": "code",
   "execution_count": 2,
   "metadata": {},
   "outputs": [],
   "source": [
    "def Kjør(self):\n",
    "        pass"
   ]
  },
  {
   "cell_type": "markdown",
   "metadata": {},
   "source": [
    "Du kan klikke her for å se kode forslag for oppgave over. Du trenger ikke å ha skrevet akkurat slik, men burde ha samme struktur.\n",
    "<details>\n",
    "  <summary>Klikk her for å vise kode forslag</summary>\n",
    "  \n",
    " <pre><code>class FilmApp():\n",
    "\n",
    "    def __init__(self):\n",
    "        \"\"\" konstruktør\"\"\"\n",
    "        self.sokResultater = []\n",
    "        self.favoritter = []\n",
    "        \n",
    "    #Hovedloop\n",
    "    def kjør(self):\n",
    "      pass\n",
    "\n",
    "    def visMeny(self):\n",
    "      pass\n",
    "\n",
    "    def sokFilm(self):\n",
    "      pass\n",
    "\n",
    "     def hentFilmInfo(self, film_tittel):\n",
    "        pass\n",
    "\n",
    "    def addToFavoritter(self, film):\n",
    "        pass\n",
    "\n",
    "    def visFavoriter(self):\n",
    "        pass\n",
    "\n",
    "    def sorterFavoritter(self):\n",
    "        pass\n",
    "      \n",
    "    </code></pre>\n",
    "</details>\n"
   ]
  },
  {
   "cell_type": "markdown",
   "metadata": {},
   "source": [
    "#### 1. Hovedloop - Kjør()\n",
    "\n",
    "Du skal skrive nå kode for hovedlopp i Appen. Det er en tekstbasert app, som betyr at valgene bruker har for å interargere med appen kommer som tekst på konsolen. Denne Appen kan ha en slik interaksjon:\n",
    "\n",
    "\n",
    "<img src=\"bilder/menyvalg.png\" alt=\"Forslag til Modell\" style=\"width:50%;\">\n",
    "\n",
    "\n",
    "\n"
   ]
  },
  {
   "cell_type": "markdown",
   "metadata": {},
   "source": [
    "Vi ønsker at meny skal vises i hele tiden. Gå til din FilmApp klassen og skriv koden under kjør(self) og visMeny() metoder, slik at de gjør som følge:\n",
    "kjør:\n",
    "1. kjører i en evig løkke, som avsluttes når bruker velger valget for \"Avslutt\". I løkken skal skje følgende:\n",
    "\n",
    "    2. viser meny valgene til bruker\n",
    "    3. spør bruker om et valg og sjekker svaret fra bruker og kalle riktig metode\n",
    "    4. sorger for at meny vises på nytt.\n",
    "\n",
    "\n",
    "For å kunne avbrytte en evig løkke kan du bruke kommandoen `break`\n",
    "\n",
    "\n",
    "\n"
   ]
  },
  {
   "cell_type": "markdown",
   "metadata": {},
   "source": [
    "<details>\n",
    "<summary>\n",
    "<b>Klikk her for å se kode forslag</b>\n",
    "</summary>\n",
    "    #Hovedloop\n",
    "    def kjør(self):\n",
    "        while True:\n",
    "            self.visMeny()\n",
    "            valg = input(\"Hva vil du gjøre?\")\n",
    "            if valg == '1':\n",
    "               self.sok()\n",
    "\n",
    "            elif valg == '2':\n",
    "                self.hentFilmInfo()\n",
    "        \n",
    "            elif valg == 'X':\n",
    "                print(\"Avslutter.\")\n",
    "                break\n",
    "            else:\n",
    "                print(\"Ugyldig valg. Prøv igjen.\")\n",
    "\n",
    "            input(\"Klikk 'Enter' for å gå til hovedmeny\")\n",
    "\n",
    "    #Menu sin viser\n",
    "        def visMeny(self):\n",
    "            print(\"Her kan du hente informasjon om film\")\n",
    "            print(\"1  Søk etter tittel\")\n",
    "            print(\"2  Hent film/serie info etter ID\")\n",
    "            print(\"3  Legg til favoriter\")\n",
    "            print(\"4  Vis favoriter\")\n",
    "            print(\"5  Lagre favorites\")\n",
    "            print(\"X  Avslutt\")\n",
    "            print()\n",
    "            \n",
    "</details>"
   ]
  },
  {
   "cell_type": "markdown",
   "metadata": {},
   "source": [
    "__Gratulerer! Du har opprettet nå skall til FilmApp. Fortsette å jobbe med Bruk av OMDB API jupyter notebook for å skrive kode for metodene i FilmApp__"
   ]
  },
  {
   "cell_type": "markdown",
   "metadata": {},
   "source": []
  }
 ],
 "metadata": {
  "kernelspec": {
   "display_name": "Python 3",
   "language": "python",
   "name": "python3"
  },
  "language_info": {
   "codemirror_mode": {
    "name": "ipython",
    "version": 3
   },
   "file_extension": ".py",
   "mimetype": "text/x-python",
   "name": "python",
   "nbconvert_exporter": "python",
   "pygments_lexer": "ipython3",
   "version": "3.10.7"
  }
 },
 "nbformat": 4,
 "nbformat_minor": 2
}
