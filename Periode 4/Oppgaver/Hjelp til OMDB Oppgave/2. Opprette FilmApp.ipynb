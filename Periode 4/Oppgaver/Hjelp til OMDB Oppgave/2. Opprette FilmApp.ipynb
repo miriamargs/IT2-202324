{
 "cells": [
  {
   "cell_type": "markdown",
   "metadata": {},
   "source": [
    "## Enkel terminal app\n",
    "En terminal applikasjon er en program som kjører i en terminalvindu (fra kommandolinje). \n",
    "\n",
    "Brukergrensesnitt er tekstbasert og programet bruker metodene input() og print() for å skrive ut spørsmål til brukeren og samle inn svarene, og vise resultatene på terminal. \n",
    "\n",
    "Selv om en terminal applikasjon har en enkel brukergrensesnitt, den fortsatt skal:\n",
    "- Håndtere feil og gi fornuftige tilbakemeldinger til bruker når feil oppstår.\n",
    "- Kunne bruke klasser, funksjoner og andre strukturer for å skrive god og gjenbrukbar kode.\n",
    "- Kunne lese og skrive data fra fil\n",
    "- Kunne hente data fra en API.\n",
    "\n",
    "\n",
    "NB! Hvis du er god til å skille brukergrensesnitt fra logikken i applikasjon, vil du kunne gjennbruk kode for å bygge en app med en andre type brukergrensesnitt."
   ]
  },
  {
   "cell_type": "markdown",
   "metadata": {},
   "source": [
    "### Film APP\n",
    "\n",
    "Du skal lage en FilmApp som lar bruker søke film i [OMDb Film API](https://www.omdbapi.com/), hente detaljert informasjon om et bestemt film og legge enkelte filmer til en Favorites-liste.\n",
    "\n",
    "Applikasjon skal ha en tekstlig bruker interface.\n",
    "\n",
    "Det første du skal gjøre er å lage en klasse som vil representere appen våres. Klassen er representert med følgende modell:\n",
    "\n",
    "![Klasse for FilmApp](bilder/FilmAppModel.png)"
   ]
  },
  {
   "cell_type": "markdown",
   "metadata": {},
   "source": [
    "<div style=\"background-color:lightblue; border:2px solid black; padding:10px; color:black\">\n",
    "<p>\n",
    "<h4><b>Oppgave</b></h4>\n",
    "<p>\n",
    "<ol>\n",
    "<li>Opprett en ny folder for prosjektet hvis du ikke har gjort det nå, og åpne det i VSCode. \n",
    "<li>Opprett da en ny fil FilmApp.py, der du skrive koden for klassen FilmApp. Du skal lage medlemvariabler, konstruktør og tommer metoder, slik at klassen stemmer med modell over.\n",
    "<p>\n",
    "NB! Tomme metoder lager du med python statement `pass. Vi vil fylle innhold i metodene etterhvert. For å lage en tømt metode, uten at det gir kompileringsfeil kan du skriver du: \n",
    "<pre><code>\n",
    "    def Kjør(self):\n",
    "        pass\n",
    "</code></pre>\n",
    "</div> "
   ]
  },
  {
   "cell_type": "markdown",
   "metadata": {},
   "source": [
    "\n",
    "Du kan klikke under for å se kode forslag for oppgave over. Du trenger ikke å ha skrevet akkurat slik, men burde ha samme struktur.\n",
    "<details>\n",
    "<summary>\n",
    "  <b>Klikk her for å vise kode forslag</b>\n",
    "</summary>\n",
    "<p>\n",
    "<pre>\n",
    "    class FilmApp():\n",
    "        def __init__(self):\n",
    "            \"\"\" konstruktør\"\"\"\n",
    "            self.sokResultater = []\n",
    "            self.favoritter = []\n",
    "        #Hovedloop - kjør rog metoder\n",
    "        def kjør(self):\n",
    "            pass\n",
    "        def visMeny(self):\n",
    "            pass\n",
    "        def sokFilm(self):\n",
    "            pass\n",
    "        def hentFilmInfo(self, film_tittel):\n",
    "            pass\n",
    "        def addToFavoritter(self, film):\n",
    "            pass\n",
    "        def visFavoriter(self):\n",
    "            pass\n",
    "        def sorterFavoritter(self):\n",
    "            pass  \n",
    "    <pre>\n",
    "</details>"
   ]
  },
  {
   "cell_type": "markdown",
   "metadata": {},
   "source": [
    "#### 1. Hovedloop - metode kjør()\n",
    "\n",
    "Du skal skrive nå kode for hovedlopp i Appen. Det er en tekstbasert app, som betyr at valgene bruker har for å interargere med appen kommer som tekst på konsolen. Denne Appen kan ha en slik interaksjon:\n",
    "\n",
    "<img src=\"bilder/menyvalg.png\" alt=\"Forslag til Modell\" style=\"width:50%;\">\n",
    "\n",
    "\n",
    "\n"
   ]
  },
  {
   "cell_type": "markdown",
   "metadata": {},
   "source": [
    "Vi ønsker at meny skal vises i hele tiden. Koden skal kjører i en evig løkke, som avsluttes når bruker velger valget for \"Avslutt\". \n",
    "I løkken skal skje følgende:\n",
    "\n",
    "<div style=\"background-color:lightgreen; border:2px solid black; padding:10px; color:black\">\n",
    "<p>\n",
    "<h4><b>Algoritme for Kjør() metode:</b></h4>\n",
    "<p>\n",
    "<ol>\n",
    "<li> Vis meny valgene til bruker<br>\n",
    "<li> Spør bruker om et valg\n",
    "<li> Sjekk svaret fra bruker og kalle riktig metode koblet til det valget<br>\n",
    "<li> Sorger for at meny valgene vises på nytt.<br>\n",
    "</ol>\n",
    "</div>\n",
    "\n",
    "NB! En evig løkke for du med `while True`. For å kunne avbrytte en evig løkke kan du bruke kommandoen `break`\n"
   ]
  },
  {
   "cell_type": "markdown",
   "metadata": {},
   "source": [
    "<div style=\"background-color:lightblue; border:2px solid black; padding:10px; color:black\">\n",
    "<p>\n",
    "<h4><b>Oppgave</b></h4>\n",
    "<p>\n",
    "Gå til din FilmApp klassen og skriv koden under kjør(self) og visMeny() metoder, slik beskrevet ovenfør.\n",
    "<br>\n",
    "</div>\n",
    "NB! En evig løkke for du med `while True`. For å kunne avbrytte en evig løkke kan du bruke kommandoen `break`\n"
   ]
  },
  {
   "cell_type": "markdown",
   "metadata": {},
   "source": [
    "<details>\n",
    "<summary>\n",
    "<b>Klikk her for å se kode forslag</b>\n",
    "</summary>\n",
    "<pre>\n",
    "    def kjør(self):\n",
    "        while True:\n",
    "            self.visMeny()\n",
    "            valg = input(\"Hva vil du gjøre?\")\n",
    "            if valg == '1':\n",
    "            self.sok()\n",
    "            elif valg == '2':\n",
    "                self.hentFilmInfo()\n",
    "            elif valg == 'X':\n",
    "                print(\"Avslutter.\")\n",
    "                break\n",
    "            else:\n",
    "                print(\"Ugyldig valg. Prøv igjen.\")\n",
    "            input(\"Klikk 'Enter' for å gå til hovedmeny\")\n",
    "    def visMeny(self):\n",
    "        print(\"Her kan du hente informasjon om film\")\n",
    "        print(\"1  Søk etter tittel\")\n",
    "        print(\"2  Hent film/serie info etter ID\")\n",
    "        print(\"3  Legg til favoriter\")\n",
    "        print(\"4  Vis favoriter\")\n",
    "        print(\"5  Lagre favorites\")\n",
    "        print(\"X  Avslutt\")\n",
    "        print()  \n",
    "    <pre>```        \n",
    "</details>"
   ]
  },
  {
   "cell_type": "markdown",
   "metadata": {},
   "source": [
    "__Gratulerer! Du har opprettet nå skall til FilmApp. Fortsette å jobbe med Bruk av OMDB API jupyter notebook for å skrive kode for metodene i FilmApp__"
   ]
  }
 ],
 "metadata": {
  "kernelspec": {
   "display_name": "Python 3",
   "language": "python",
   "name": "python3"
  },
  "language_info": {
   "codemirror_mode": {
    "name": "ipython",
    "version": 3
   },
   "file_extension": ".py",
   "mimetype": "text/x-python",
   "name": "python",
   "nbconvert_exporter": "python",
   "pygments_lexer": "ipython3",
   "version": "3.10.7"
  }
 },
 "nbformat": 4,
 "nbformat_minor": 2
}
