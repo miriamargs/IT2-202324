{
 "cells": [
  {
   "cell_type": "markdown",
   "metadata": {},
   "source": [
    "#### __Søk film info  - Metode Sok()__\n",
    "Neste steg er å begynne å lage innhold på de forskjellige metoder. __Sok()__ søker filmer eller serier basert på tittel via OMDb API og og __HentFilInfo()__ henter informasjon om et bestemt film eller serie basert på id.\n",
    "\n",
    "##### __API  - «Application Programming Interface»__\n",
    "API står for «Application Programming Interface» og er programvare som tillater flere programmer å kommunisere. De aller fleste datatjenester har et API som gjør det mulig å hente ut forskjellige typer data. \n",
    "For å bruke et API i Python bruker vi biblioteket «requests». Vi kan da sende en forespørsel (en request) til et API via en URL. Du kan tenke på en URL som navnet på en API-\"funksjon\"  som tilbys på Internett som du kan kalle på, og som returnerer noe data til deg (ofte i __JSON__ format). En forespørsel til en API via en URL kaller vi en __request__. Vi lærer mer om dette i __IT1__, men har kan du bare tenkte slik. \n",
    "\n",
    "En slik URL kan også skrives direkte i en web browser. Du kan prøve dette selv her ved å klikke på denne lenken:  \"[Søke på en film som inkludere 'Star'](https://www.omdbapi.com/?apikey=b42c0fc0&s=Start)\"\n",
    "\n",
    " (__For å se enklere på resultatet Klikk på checkbox \"Pretty-print\"__ over til venstre eller kopier resultat i [https://jsonlint.com/](https://jsonlint.com/))\n"
   ]
  },
  {
   "cell_type": "markdown",
   "metadata": {},
   "source": [
    "<div style=\"background-color:lightblue; border:2px solid black; padding:10px; color:black\">\n",
    "\n",
    "##### __Oppgave__\n",
    "Se på URL i web browser, fin teksten s= Start og bytt den med t= \n",
    "Ser du forskjell i json som sendes ut?Hva gjør parameter t?\n",
    "\n",
    "<details>\n",
    "<summary>\n",
    "<b>Svar</b>\n",
    "</summary>\n",
    "\n",
    "_?s_ er parameter for å gjøre en søk, mens _?t_ er parameter for å hente info for en bestemt film. Du kan se flere parameter du kan bruke i dokumentasjon til OMDb her:  [OMDb Film API Dokumentasjon](https://www.omdbapi.com/),\n",
    "</details>\n",
    "\n",
    "</div>\n"
   ]
  },
  {
   "cell_type": "markdown",
   "metadata": {},
   "source": [
    " Man man kan kalle disse tjenester fra nettsted direkte fra koden. For å bruke et API i Python bruker vi biblioteket `requests` (og `json` hvis det er formatten for data vi får i return)\n",
    " \n",
    " Legg til denne koden til FilmApp.py"
   ]
  },
  {
   "cell_type": "code",
   "execution_count": null,
   "metadata": {},
   "outputs": [],
   "source": [
    "import requests\n",
    "import json\n",
    "\n",
    "API_URL = 'https://www.omdbapi.com/'\n",
    "API_KEY = 'sett din egen api_key her'   #Miriamskey 'b42c0fc0'\n"
   ]
  },
  {
   "cell_type": "markdown",
   "metadata": {},
   "source": [
    "<div style=\"background-color:gray; border:2px solid black; padding:10px; color:black\">\n",
    "NB! Hvis du ikke har installert request fra før kan du gjøre dette med \n",
    "+ kjøre  ```pip install requests``` fra en terminalvindu\n",
    "\n",
    "Merk! Hvis du eventuelt vil ha tilgang til API_KEY og API_URL fra forskjellige python filer, kan du flytte disse to linjekoder til en Settings.py fil og inkludere \"__from Settings import *__\" i de filene der du vil ha tilgang til konstantene.\n",
    "</div>"
   ]
  },
  {
   "cell_type": "markdown",
   "metadata": {},
   "source": [
    "I Aunivers [Eksempler API-er](https://innhold.aunivers.no/fagpakker/realfag/informasjonsteknologi-1-2/it-2/3-databehandling/eksempel-api-er) så du hvordan man kunne bruke metoden `get()` for å forsøke å hente informasjon fra API-et. Du lærte også at fra `get()` får vi et objekt som inneholder informasjonen vi ønsker å hente. \n",
    "\n",
    "Vi kan også bruke det objektet til å sjekke at forespørselen vår gikk som forventet. Vi får nemlig en statuskode som har verdien 200 hvis alt har gått bra.  \n",
    "\n",
    "OMDb API trenger at du autentiserer deg med en API_KEY. Du må også skrive forskjellige parametrer for å fortelle hvilken funksjon du vil kalle på. \n",
    "Under finner du en eksempel på hvordan du gjør en søk med kode. (Kjør kode ved å trykke på trekanten til høyre. Du må ha kjør kode med import-kode tidligere også for at det skal fungere korrekt):"
   ]
  },
  {
   "cell_type": "code",
   "execution_count": null,
   "metadata": {},
   "outputs": [],
   "source": [
    "tittel = \"Star Wars: Episode I\"            #velger en tittel\n",
    "\n",
    "url = f'http://www.omdbapi.com/?apikey={API_KEY}&s={tittel}'  #test her forskjellige kall\n",
    "response = requests.get(url)\n",
    "\n",
    "if response.status_code == 200:  \n",
    "    data = response.json()           # \n",
    "    print(json.dumps(data))        # henter svar fra API i json format\n"
   ]
  },
  {
   "cell_type": "markdown",
   "metadata": {},
   "source": [
    "#### __Metode self.sok() i FilmApp__\n",
    "\n",
    "__sok()__ er en metode i FilmApp-klassen. Du har opprettet den tidligere som en tomt metode. Denne metode søker etter film  eller series som inneholder en viss tekst i tittel via OMDb API og returnerer en liste med film eller serier som matcher teksten. \n",
    "\n",
    "Vi ønsker å laste opp JSONd-ata som kommer ut av API inn i objektene fra vår modell. For å kunne bruke klassene du lagde, må du importere filen der du skrev koden for klassene inn i FilmApp.py. Dette gjør du med følgende kode:"
   ]
  },
  {
   "cell_type": "code",
   "execution_count": 5,
   "metadata": {},
   "outputs": [],
   "source": [
    "from Klasser import *"
   ]
  },
  {
   "cell_type": "markdown",
   "metadata": {},
   "source": [
    "Test denne kode ved å kjøre den direkte her, ved å klikke på \"Run\"-knapp til venstre.\n",
    "Forstår du koden?"
   ]
  },
  {
   "cell_type": "code",
   "execution_count": 7,
   "metadata": {},
   "outputs": [
    {
     "name": "stdout",
     "output_type": "stream",
     "text": [
      "0 Title: Star Wars: Episode II - Attack of the Clones, Year:2002, ID:tt0121765, Type:movie\n",
      "1 Title: Robot Chicken: Star Wars Episode II, Year:2008, ID:tt1334272, Type:movie\n",
      "2 Title: Star Wars: Episode II - Attack of the Clones: Deleted Scenes, Year:2002, ID:tt12247528, Type:movie\n",
      "3 Title: Vader Immortal: A Star Wars VR Series - Episode II, Year:2019, ID:tt11323484, Type:game\n",
      "4 Title: Star Wars Episode II: Attack of the Clones, Year:2002, ID:tt11543220, Type:game\n",
      "5 Title: Star Wars Episode II: The Saga Continues, Year:2000, ID:tt7574890, Type:movie\n",
      "6 Title: Star Wars Episode II: Attack of the Clones (2002), Year:2002, ID:tt17977694, Type:movie\n"
     ]
    }
   ],
   "source": [
    "import requests\n",
    "import json\n",
    "\n",
    "API_URL = 'https://www.omdbapi.com/'\n",
    "API_KEY = 'b42c0fc0'   #'sett din egen api_key her'\n",
    "\n",
    "#Koden for å teste OMDb API\n",
    "\n",
    "tittel = \"Star Wars: Episode II\"\n",
    "\n",
    "url = f\"{API_URL}\\?apikey={API_KEY}&s={tittel}\"\n",
    "response = requests.get(url)\n",
    "\n",
    "if response.status_code == 200: \n",
    "    data = response.json()\n",
    "\n",
    "    index = 0\n",
    "    for filmdata in data[\"Search\"]:\n",
    "        SokResultat(filmdata)\n",
    "        print(index, SokResultat(filmdata))\n",
    "        index += 1\n",
    " "
   ]
  },
  {
   "cell_type": "code",
   "execution_count": null,
   "metadata": {},
   "outputs": [],
   "source": [
    "#Merk denn andre måte å fikse url og params. Velg den du forstår best.\n",
    "tittel = \"Star Wars: Episode II\"\n",
    "params = {'apikey': API_KEY, 's': tittel}   #konfigurere parameter til url\n",
    "response = requests.get(API_URL, params)    #sender request til OMDb\n",
    "\n",
    "print(response)"
   ]
  },
  {
   "cell_type": "markdown",
   "metadata": {},
   "source": [
    "<div style=\"background-color:lightblue; border:2px solid black; padding:10px; color:black\">\n",
    "\n",
    "#### __Oppgave__ \n",
    "\n",
    " 1.Bruk som inspirasjon koden over og Skrive koden for den tomme __sok()-metodet__ i __FilmApp-klassen__ du skrev tidligere. \n",
    "En mulig algoritme som beskriver hva metoden skal gjøre er som følge:\n",
    "<div style=\"background-color:lightgreen; border:2px solid black; padding:10px; color:black\">\n",
    "\n",
    "def Metode Sok():\n",
    "<ol>\n",
    "    <li> Be bruker om tittle-ord  (tips input)\n",
    "    <li> Lag URL med parameters og send _request_ to OMDB API  (tips: samme som i eksempel kode)\n",
    "    <li> Hvis man får en korrekt _response_ :  \n",
    "    <ul>\n",
    "    <li> Hent json data fra response\n",
    "    <li> Gå gjennom alle elementer i \"Search\"-listen og lag en SokResultat-objekt per treff\n",
    "    <li> Lagre sisteSokResultat i en i FilmApp-en ( tips: bruk en meldemvariabel)\n",
    "    <li> Vise listen  (tips: lag en metode som skriver ut listen)\n",
    "    </ul>\n",
    "    <li> Hvis man ikke får en korrekt _response_ fra webAPI:\n",
    "    <ul><li> Skriv ut en passende beskjed.\n",
    "</ol>\n",
    "</div>\n",
    "</div>"
   ]
  },
  {
   "cell_type": "markdown",
   "metadata": {},
   "source": [
    "<details>\n",
    "<summary>\n",
    "<b> Forslag til kode</b>\n",
    "</summary>\n",
    "      # Metoder knytte til meny valgene\n",
    "    \n",
    "     def sok(self):\n",
    "    \n",
    "        # send request til API\n",
    "        tittel = input(\"Skriv inn tittelen eller deler av tittel: \")\n",
    "        params = {'apikey': API_KEY, 's': tittel}   #konfigurere parameter til url\n",
    "        response = requests.get(API_URL, params)    #sender request til OMDb nettsted\n",
    "\n",
    "        # hente json-data\n",
    "        if response.status_code == 200:   \n",
    "            data =  response.json()        # henter data fra API i json format\n",
    "        else:                              # Noe gikk galt ved API request\n",
    "            print('Feil ved henting av informasjon fra OMDb.')\n",
    "    \n",
    "        if data[\"Response\"] == \"False\":   # sjekker om OMDb API tjeneste kall gikk bra.\n",
    "                print(data[\"Error\"])      #skriv ut error fra OMDb\n",
    "        \n",
    "\n",
    "        # Lagre liste med SokResultat fra siste søk resultat i appen \n",
    "        sisteSok = []\n",
    "        filmListe = data[\"Search\"]\n",
    "        for filmdata in filmListe:\n",
    "                sisteSok.append(SokResultat(filmdata))\n",
    "        self.sistSokResultat = sisteSok\n",
    "    \n",
    "        # Skrive ut resultat liste på konsoll\n",
    "        for index, film in enumerate(self.sistSokResultat):\n",
    "            print(index, film)\n",
    "</details>"
   ]
  },
  {
   "cell_type": "markdown",
   "metadata": {},
   "source": [
    "<div style=\"background-color:lightblue; border:2px solid black; padding:10px; color:black\">\n",
    "\n",
    "#### __Oppgave__ \n",
    "\n",
    " 1.Bruk som inspirasjon koden over og Skrive koden for den tomme __hentFilmInfo()-metodet__ i __FilmApp-klassen__ du skrev tidligere. \n",
    "En mulig algoritme som beskriver hva metoden skal gjøre er som følge:\n",
    "<div style=\"background-color:lightgreen; border:2px solid black; padding:10px; color:black\">\n",
    "\n",
    "def Metode HentFilmInfo():\n",
    "<ol>\n",
    "    <li> Be bruker om id til filmen hen ønsker info om (tips input)\n",
    "    <li> Lag URL med parameters og send _request_ to OMDB API  (tips: samme som i eksempel kode men med i='imdbID som parameter)\n",
    "    <li> Hvis man får en korrekt _response_ :  \n",
    "    <ul>\n",
    "    <li> Hent json data fra response\n",
    "    <li> Sjekk type i response: 'movie' eller 'serie' og opprette riktig type objekt\n",
    "    <li> Vise info for media type\n",
    "    </ul>\n",
    "    <li> Hvis man ikke får en korrekt _response_ fra webAPI:\n",
    "    <ul><li> Skriv ut en passende beskjed.\n",
    "</ol>\n",
    "</div>\n",
    "</div>"
   ]
  },
  {
   "cell_type": "markdown",
   "metadata": {},
   "source": [
    "<details>\n",
    "<summary>\n",
    "<b> Forslag til kode</b>\n",
    "</summary>\n",
    "    # Metoder knytte til meny valgene\n",
    "    def hentFilmInfo():\n",
    "        # send request til API\n",
    "        id = input(\"Skriv inn tittelen eller deler av id: \")\n",
    "        params = {'apikey': API_KEY, 'i': id}   #konfigurere parameter til url\n",
    "        response = requests.get(API_URL, params)    #sender request til OMDb nettsted\n",
    "\n",
    "        # hente json-data\n",
    "        if response.status_code == 200:   \n",
    "            data =  response.json()        # henter data fra API i json format\n",
    "        else:                              # Noe gikk galt ved API request\n",
    "            print('Feil ved henting av informasjon fra OMDb.')\n",
    "    \n",
    "        if data[\"Response\"] == \"False\":   # sjekker om OMDb API tjeneste kall gikk bra.\n",
    "                print(data[\"Error\"])      #skriv ut error fra \n",
    "                return\n",
    "        \n",
    "        # Sjekk type og skrive ut\n",
    "        if data.get(\"Type\") == 'movie':\n",
    "            print(Film(data).visInfo())\n",
    "        elif data.get(\"Type\") == 'series':\n",
    "             print(Serie(data).visInfo())\n",
    "</details>"
   ]
  }
 ],
 "metadata": {
  "kernelspec": {
   "display_name": "Python 3",
   "language": "python",
   "name": "python3"
  },
  "language_info": {
   "codemirror_mode": {
    "name": "ipython",
    "version": 3
   },
   "file_extension": ".py",
   "mimetype": "text/x-python",
   "name": "python",
   "nbconvert_exporter": "python",
   "pygments_lexer": "ipython3",
   "version": "3.10.7"
  }
 },
 "nbformat": 4,
 "nbformat_minor": 2
}
