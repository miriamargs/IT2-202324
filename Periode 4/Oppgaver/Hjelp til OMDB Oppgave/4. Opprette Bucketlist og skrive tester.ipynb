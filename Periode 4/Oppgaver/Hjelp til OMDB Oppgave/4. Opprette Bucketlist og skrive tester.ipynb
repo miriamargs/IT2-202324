{
 "cells": [
  {
   "cell_type": "markdown",
   "metadata": {},
   "source": [
    "### Opprette, oppdatere og lagre Favoritter listen.\n",
    "Siste del av oppgaven består av å opprette en \"Bucketlist\". En liste der bruker kan legge til favoritt film og serier, og markert dem som 'sett'.\n",
    "\n",
    "I oppgave beskrivelse står det\n",
    "\n",
    "_Bruker skal kunne velge utvalgte film/serier fra søkresultater og legge til i en bucket list (Favoritter)  , som skal kunne lagres på fil._\n",
    "_Man skal kunne se til enhver tid elementer på listen og sortere_\n",
    "\n",
    "Dette betyr at liste med favoritter både består at noe data og funksjonalitet og det er naturlig å kapsle det inne i et objekt. Vi skal skrive tester til bucket list funksjonalitet og det blir også enklere om med klasser."
   ]
  },
  {
   "cell_type": "markdown",
   "metadata": {},
   "source": [
    "<img src=\"bilder/FavoritterModell.png\" style=\"width:20%;\">"
   ]
  },
  {
   "cell_type": "markdown",
   "metadata": {},
   "source": [
    "Klassen har et navn, som skal brukes for å lagre listen i en JSON-fil, og en dictionary med filmer/serier.\n",
    "Merk siste metode `toSJON`. Den vil bli bruk for å _serialisere_ klassen, dvs. konvertere til JSON-tekst format, før den lagres på fil.\n",
    "\n",
    "<div style=\"background-color:lightblue; border:2px solid black; padding:10px; color:black\">\n",
    "<p>\n",
    "<h4><b>Oppgave</b></h4>\n",
    "<p>\n",
    "Favoritter representerer \"bucketlist\". I Klasser.py (eller mappen/filen der du har lagret kode for dine klasser)  skriv skall-koden for Favoritter klassen.\n",
    "<br>\n",
    "NB! se under for koden for å lage metoder med tomt innhold.\n",
    "</div>"
   ]
  },
  {
   "cell_type": "code",
   "execution_count": null,
   "metadata": {},
   "outputs": [],
   "source": [
    "def toJSON(self):\n",
    "    pass"
   ]
  },
  {
   "cell_type": "markdown",
   "metadata": {},
   "source": [
    "<details>\n",
    "<summary>\n",
    "  <b>Klikk her for å vise kode forslag</b>\n",
    "</summary>\n",
    "<p>\n",
    "<pre>\n",
    "    class Favoritter():\n",
    "    def __init__(self, name:str):\n",
    "        self.name = name\n",
    "        self.mediaer = {}   # dictionary med filmer eller serier\n",
    "    #\n",
    "    def leggTil(self, media:VisueltMedia)->str:\n",
    "        pass\n",
    "    #      \n",
    "    def fjern(self, imdbID:str)-> str:\n",
    "       pass\n",
    "    #\n",
    "    def markAsSett(self, imdbID):\n",
    "        pass\n",
    "    #\n",
    "    def sort(self):\n",
    "        pass\n",
    "    #\n",
    "    def visInfo(self, type:str=None)->str:\n",
    "        pass\n",
    "    #    \n",
    "    def toJSON(self):\n",
    "        return json.dumps(self.mediaer,sort_keys=True, default=vars, indent=4)\n",
    "</pre>\n",
    "</details>"
   ]
  },
  {
   "cell_type": "markdown",
   "metadata": {},
   "source": [
    "#### Metode leggTil()"
   ]
  },
  {
   "cell_type": "markdown",
   "metadata": {},
   "source": [
    "Det er naturlig å tenke at Favoritt-listen som ble tidligere lagret på fil skal være tilgjengelig når man åpner FilmApp. Favoritt-listen skal i hvertfall være lest opp når man skal legge til en element til listen.\n",
    "\n",
    "For å lese filer har vi lært å bruke `with open`-struktur. Se kode under"
   ]
  },
  {
   "cell_type": "code",
   "execution_count": null,
   "metadata": {},
   "outputs": [],
   "source": [
    "def leggTil(self, media:VisueltMedia)->str:\n",
    "        \"\"\" Laster opp favoritt listen fra fil, hvis det fins. Legger film/serie\n",
    "        til favoritt liste, hvis det ikke ligger der fra før.\"\"\"\n",
    "        \n",
    "        try:\n",
    "            with open(self.navn + \".json\", \"r\") as fil:\n",
    "                self.medier = json.load(fil)\n",
    "        except Exception as e:\n",
    "            print(e.with_traceback)"
   ]
  },
  {
   "cell_type": "markdown",
   "metadata": {},
   "source": [
    "Når man åpner en vil med open, sender man navnet til filen, og et parameter til som forteller hvilken modus ønsker vi å åpne fil i:\n",
    "- r - read only\n",
    "- w - write\n",
    "- a - append\n",
    "\n",
    "I denne tilfelle leser vi opp filen for å lese tidligere lagret favoritter, som vi laster opp i medlemvariabel `self.medier`.\n",
    "\n",
    "Merk at koden kunne ha blitt gjort mer robust. Vi antar at filen heter \"navn\".json, der navn er medlemvariable som holder navnet på bucketlist"
   ]
  },
  {
   "cell_type": "markdown",
   "metadata": {},
   "source": [
    "<div style=\"background-color:lightblue; border:2px solid black; padding:10px; color:black\">\n",
    "<p>\n",
    "<h4><b>Oppgave</b></h4>\n",
    "<p>\n",
    "Kopier koden til leggTil-metoden og skriv metoden ferdig. Metode skal ta inn som parameter en objekt av type \"VisueltMedia\". En mulig algoritme  er:\n",
    "<div style=\"background-color:lightgreen; border:2px solid black; padding:10px; color:black\">\n",
    "Algoritme for Metode LeggTil(selv, VisueltMedie):\n",
    "<ol>\n",
    "    <li> Last opp favoritt-listen fra fil, hvis det fins, og lagre det i medlemvariabler `self.mediear`\n",
    "    <li> Sjekk om film/serie som man prøver å legge til ligger allerede på listen.\n",
    "    <li> Hvis det ikke fins:  \n",
    "    <ul>\n",
    "    <li> Legg til i liste\n",
    "    <li> Returnere en beskjed som sier at filmen/serie ble lagt på listen\n",
    "    </ul>\n",
    "    <li> Hvis ikke, returnere en beskjed som sier at filmen/serie allerede var på listen\n",
    "</ol>\n",
    "</div>\n",
    "</div>"
   ]
  },
  {
   "cell_type": "markdown",
   "metadata": {},
   "source": [
    "<details>\n",
    "<summary>\n",
    "  <b>Klikk her for å vise kode forslag</b>\n",
    "</summary>\n",
    "<p>\n",
    "<pre>\n",
    "  def leggTil(self, media:VisueltMedia)->str:\n",
    "        \"\"\" Laster opp favoritt listen fra fil, hvis det fins. Legger film/serie\n",
    "        til favoritt liste, hvis det ikke ligger der fra før.\"\"\"\n",
    "        #\n",
    "        try:\n",
    "            with open(self.name + \".json\", \"r\") as fil:\n",
    "                self.medier = json.load(fil)\n",
    "        except Exception as e:\n",
    "            print(e.with_traceback)\n",
    "        #\n",
    "        if not self.mediaer.get(media.id):\n",
    "            self.mediaer[media.id] = media\n",
    "            return f\"En element med tittel {media.tittel} ble lagt til din favoritter-listen\"\n",
    "        else:\n",
    "            return f\"En element med tittel {media.tittel} er allerede en del av dine favoritter\"\n",
    "</pre>\n",
    "</details>"
   ]
  },
  {
   "cell_type": "markdown",
   "metadata": {},
   "source": [
    "#### Legg til fra FilmApp\n",
    "Vi kan nå prøve å kalle dette fra vår FilmApp.\n",
    "Merk at du trenger en `Film`eller `Serie`objekt  for å sende til Favoritter, slik at informasjon om media bli lagret. \n",
    "<br>\n",
    "Du kan løse dette ved å be bruker om en id og hente informasjon fra filmen.\n",
    "(eventuelt lagre i en medlemvariable siste film bruker hentet informasjon for og brukt det.)\n",
    "\n",
    "Under har du en forslag til kode som har siste hentet film/serie lagret i en meldemvariabel (merk at du ikke trenger å gjøre det slik)"
   ]
  },
  {
   "cell_type": "code",
   "execution_count": null,
   "metadata": {},
   "outputs": [],
   "source": [
    "def leggTilFavoritter(self):\n",
    "        \"\"\"Legg til favoritter siste film som ble vist informasjon om med status 'ikke sett'\n",
    "        \"\"\"\n",
    "        if self.selectedMedia:\n",
    "            svar = input(f\"Vil du legge {self.selectedMedia.tittel} til Favoritter (ja/nei): \")\n",
    "            if svar.lower() == \"ja\":\n",
    "                media = self.selectedMedia\n",
    "                resultat = self.favorittList.leggTil(media)\n",
    "                self.lagreFavoritter()\n",
    "                print(resultat + \". Liste ble lagret\")\n",
    "                  "
   ]
  },
  {
   "cell_type": "markdown",
   "metadata": {},
   "source": [
    "#### Legg til og lagre favoritter\n",
    "\n",
    "Som nevt ovenfor kan man åpne filer for lesing, oppdatering eller skriving. \n",
    "Vi ønsker å beholde elementene vi hadde fra før, så i denne tilfelle burde du bruke \"a\" - append når du åpner filen.\n",
    "\n",
    "<br>\n",
    "Hvis du skal lagre favoritter på fil, og vær i stand til å hente den igjen er det en vanlig løsning å lagre det som JSON-format.\n",
    "\n",
    "<div style=\"background-color:lightblue; border:2px solid black; padding:10px; color:black\">\n",
    "<p>\n",
    "<h4><b>Oppgave</b></h4>\n",
    "<p>\n",
    "Skriv kode for resterende metoder i FilmApp for å håndtere  og lagre favoritter-listen.\n",
    "- vis\n",
    "- fjern\n",
    "-lagre\n",
    "\n"
   ]
  },
  {
   "cell_type": "code",
   "execution_count": null,
   "metadata": {},
   "outputs": [],
   "source": []
  }
 ],
 "metadata": {
  "kernelspec": {
   "display_name": "Python 3",
   "language": "python",
   "name": "python3"
  },
  "language_info": {
   "name": "python",
   "version": "3.10.7"
  }
 },
 "nbformat": 4,
 "nbformat_minor": 2
}
