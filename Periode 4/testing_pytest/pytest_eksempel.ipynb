{
 "cells": [
  {
   "cell_type": "markdown",
   "metadata": {},
   "source": [
    "### Programvaretesting\n",
    "\n",
    "Når vi koder programmer og utvikler systemer, forventes at de skal være feil fri og at de skal gjøre det som forventes av dem. Hva som forventes kan være beskrevet i form av funksjonelle krav, som vi så i pygame oppgaven PacTroll.\n",
    "For at dette i det hele tatt skal fungere vil jeg si at du _MÅ_ å teste programmene underveis, dvs. du må sorge for å teste deler av koden mens du utvikler den, ikke bare når du er ferdig med utvikling. \n",
    "\n",
    "Det fins flere forskjellige tester som man kjører i ulike faser av systemutviklingssyklus:\n",
    "- Enhetstesting\n",
    "- Integrasjonstesting\n",
    "- Systemtesting\n",
    "- Akseptansetesting.\n",
    "\n",
    "Jeg snakket litt om dem i presentasjon i timen. Her skal vi fokusere på Enhetstesting.\n",
    "\n",
    "Man burde ha en plan på hvordan vi vil teste, og jo mer strukturert/systematisk og automatisert jo bedre. \n",
    "\n",
    "Det kan være vanskelig å automatisere testing av grafisk brukergrensesnitt, men siden vi fokusere på enhetstester, kan vi styre una GUI.\n",
    "\n",
    "\n",
    "####Enhetstesting (unit tests)\n",
    "Vi tester en enkelt _enhet_, f.eks. en funksjon, en metode eller en klasse. Vi tester koden isolert for seg selv, uten å måtte kjøre andre kode som vi ikke tester. \n",
    "\n",
    "La oss gå gjennom en eksempel på hvordan kunne enhetstester se ut når vi bruker pytest. pytest installeres enkelt i VS Code, er gratis og åpen kildekode, det er lettere å lære en unittest som kommer med python og trenger mindre kode, siden vi slipper å opprette testklasser). Dessuten har pytest mer detaljert utskrift om resultater av testing.\n",
    "\n",
    "#####  Fil struktur - en eksempel\n",
    "\n",
    "Det er lurt å ha en bra fil struktur når du jobber med test. Under finner du en forslag der du samler tester i en mappe. Du kan velge å organisere det annerledes. Det er noen ting du må ta hensyn til. Du kan kjøre din første pytest med denne eksempel:\n",
    "\n",
    "1. Lag en mappe for prosjektet du skal jobbe med. Jeg kaller den har ` demo_tests`. Har skal du ha alle filer du skal produsere i dette arbeid.\n",
    "2. Åpne denne mappen i VS Code og opprette mappene `src`og `tests`\n",
    "3. i `src`-mappen, opprett filen inc_dec.py med innhold som vist under:\n"
   ]
  },
  {
   "cell_type": "code",
   "execution_count": null,
   "metadata": {},
   "outputs": [],
   "source": [
    "def increment(x):\n",
    "    return x + 1\n",
    "\n",
    "def decrement(x):\n",
    "    return x - 1"
   ]
  },
  {
   "cell_type": "markdown",
   "metadata": {},
   "source": [
    "3. I `tests`-mappen, opprett filen `test_inc_dec.py`med innholdet som vist til høyre. \n",
    "Filene (modulene) og testene (funksjonene) må starte med `test_`\n",
    "\n",
    "4. For at vi skal kunne importere koden i testene, når de er i forsjellige mapper, må vi opprette to tomme filer, `__init__.py`i `demo_tests`-mappen og `demo_tests\\tests`-mappen \n",
    "\n",
    "5. Vi kan nå kjøre alle testene fra terminalvinduet ved å skrive pytest. Du ser resultat fra kjøring i bilde under. Sjekk at du får noe tilsvarende.\n",
    "\n",
    "<img src=\"bilder/resultat_fra_test.png\" alt=\"Forslag til Modell\" style=\"width:60%;\">"
   ]
  },
  {
   "cell_type": "markdown",
   "metadata": {},
   "source": [
    "pytest tester kan kjøres integrert i VS Code. Klikk på \"begerglasset\" i verktøymeny og deretter på \"Configure Python Test\". Velg `pytest` (select framework/tool to enable) og deretter .Root Directory.\n",
    "\n",
    "<img src=\"bilder/configure_pytest_i_VS_Code.png\"  style=\"width:60%;\">"
   ]
  },
  {
   "cell_type": "markdown",
   "metadata": {},
   "source": [
    "Nå kan du også kjøre alle tester eller velger tester du vil kjøre i VS Code. \n",
    "\n",
    "Detaljer av resultater får du i Output: Python Test log."
   ]
  },
  {
   "cell_type": "markdown",
   "metadata": {},
   "source": [
    "#### Hvordan skrive tester\n",
    "\n",
    "Tester er funksjoner som starter med test_\n",
    "\n",
    "Det er lurt å skrive tester så små som mulig, dvs. du tester en funksjonalitet av gangen. Vanlig struktur er da: \n",
    "\n",
    "1. Lag input data\n",
    "2. Utfør koden som testes, og ta bare på resultat\n",
    "3. Sammenlign resultatet med et forventet resultat\n",
    "\n",
    "\n",
    "\n"
   ]
  }
 ],
 "metadata": {
  "language_info": {
   "name": "python"
  }
 },
 "nbformat": 4,
 "nbformat_minor": 2
}
